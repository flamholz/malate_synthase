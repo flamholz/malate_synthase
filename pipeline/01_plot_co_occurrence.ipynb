{
 "cells": [
  {
   "cell_type": "code",
   "execution_count": 1,
   "metadata": {},
   "outputs": [],
   "source": [
    "%matplotlib inline\n",
    "import numpy as np\n",
    "import pandas as pd\n",
    "import seaborn as sns\n",
    "\n",
    "from Bio import SeqIO\n",
    "from Bio.SeqIO import SeqRecord\n",
    "from Bio.Seq import Seq\n",
    "from matplotlib import pyplot as plt"
   ]
  },
  {
   "cell_type": "code",
   "execution_count": 2,
   "metadata": {},
   "outputs": [],
   "source": [
    "# Using the post-filtered data here. \n",
    "carboxylase_df = pd.read_csv('../annotree_data/PF00016_rubisco_large_042720_not_fIV.csv')\n",
    "ms_df = pd.read_csv('../annotree_data/PF01274_malate_synthase_042720_filtered.csv')"
   ]
  },
  {
   "cell_type": "code",
   "execution_count": 3,
   "metadata": {},
   "outputs": [
    {
     "name": "stdout",
     "output_type": "stream",
     "text": [
      "49.7% of 2426 carboxylase-having organisms also have malate synthase\n"
     ]
    }
   ],
   "source": [
    "carboxylase_orgs = set(carboxylase_df.gtdbId.unique())\n",
    "ms_orgs = set(ms_df.gtdbId.unique())\n",
    "overlap_orgs = carboxylase_orgs.intersection(ms_orgs)\n",
    "\n",
    "carboxylase_df['has_malate_synthase'] = [r.gtdbId in ms_orgs for idx, r in carboxylase_df.iterrows()]\n",
    "\n",
    "n_carboxylase_orgs = len(carboxylase_orgs)\n",
    "n_with_ms = len(overlap_orgs)\n",
    "pctage = 100*n_with_ms / n_carboxylase_orgs\n",
    "print('%.1f%% of %d carboxylase-having organisms also have malate synthase' % (pctage, n_carboxylase_orgs))"
   ]
  },
  {
   "cell_type": "code",
   "execution_count": 4,
   "metadata": {},
   "outputs": [],
   "source": [
    "# Note -- annotree is r89 of GTDB as of 04/27/20\n",
    "# Unfortunately these files have no header.\n",
    "gtdb_taxonomy_bac = pd.read_csv('../gtdb/bac120_taxonomy_r89.tsv', sep='\\t', header=None)\n",
    "gtdb_taxonomy_arc = pd.read_csv('../gtdb/ar122_taxonomy_r89.tsv', sep='\\t', header=None)\n",
    "gtdb_taxonomy_bac.columns = ['gtdbId', 'taxonomy']\n",
    "gtdb_taxonomy_arc.columns = ['gtdbId', 'taxonomy']\n",
    "gtdb_taxonomy_bac.set_index('gtdbId', inplace=True)\n",
    "gtdb_taxonomy_arc.set_index('gtdbId', inplace=True)"
   ]
  },
  {
   "cell_type": "code",
   "execution_count": 5,
   "metadata": {},
   "outputs": [],
   "source": [
    "# Lookup the GTDB IDs in the taxonomy files\n",
    "t_domain, t_phylum, t_class, t_order, t_family = [], [], [], [], [] \n",
    "for idx, row in carboxylase_df.iterrows():\n",
    "    gtdb_id = row.gtdbId    \n",
    "    bac_tax, arc_tax = None, None\n",
    "    if gtdb_id in gtdb_taxonomy_bac.index:\n",
    "        bac_tax = gtdb_taxonomy_bac.at[gtdb_id, 'taxonomy']\n",
    "    if gtdb_id in gtdb_taxonomy_arc.index:\n",
    "        arc_tax = gtdb_taxonomy_arc.at[gtdb_id, 'taxonomy']\n",
    "    \n",
    "    # Better have taxonomic information or something is up.\n",
    "    tax = bac_tax or arc_tax\n",
    "    assert tax is not None\n",
    "    \n",
    "    t_split = [t.split('__')[1] for t in tax.split(';')]\n",
    "    t_domain.append(t_split[0])\n",
    "    t_phylum.append(t_split[1])\n",
    "    t_class.append(t_split[2])\n",
    "    t_order.append(t_split[3])\n",
    "    t_family.append(t_split[4])\n",
    "carboxylase_df['domain'] = t_domain\n",
    "carboxylase_df['phylum'] = t_phylum\n",
    "carboxylase_df['class'] = t_class\n",
    "carboxylase_df['order'] = t_order\n",
    "carboxylase_df['family'] = t_family\n",
    "\n",
    "# GTDB splits firmicutes and chloroflexi into multiple groups. I'm sure this is right, but will confuse many.\n",
    "carboxylase_df['phylum_'] = [ph.split('_')[0] for ph in carboxylase_df.phylum]"
   ]
  },
  {
   "cell_type": "code",
   "execution_count": 6,
   "metadata": {},
   "outputs": [],
   "source": [
    "phyla = ['Actinobacteriota', 'Firmicutes', 'Deinococcota',\n",
    "         'Cyanobacteria', 'Desulfobacterota', 'Verrucomicrobiota',\n",
    "         'Eremiobacterota', 'Gemmatimonadota', 'Dormibacterota']\n",
    "classes = ['Alphaproteobacteria', 'Gammaproteobacteria']\n",
    "\n",
    "n_carb_total = [carboxylase_df.gtdbId.unique().size]\n",
    "n_ms_total = [carboxylase_df[carboxylase_df.has_malate_synthase].gtdbId.unique().size]\n",
    "\n",
    "\n",
    "n_carb_phyla = []\n",
    "n_ms_phyla = []\n",
    "for ph in phyla:\n",
    "    mask = carboxylase_df.phylum_ == ph\n",
    "    unique_orgs = carboxylase_df[mask].gtdbId.unique().size\n",
    "    \n",
    "    has_ms_mask = mask & carboxylase_df.has_malate_synthase\n",
    "    unique_orgs_with_ms = carboxylase_df[has_ms_mask].gtdbId.unique().size\n",
    "    \n",
    "    n_carb_phyla.append(unique_orgs)\n",
    "    n_ms_phyla.append(unique_orgs_with_ms)\n",
    "    \n",
    "n_carb_class = []\n",
    "n_ms_class = []\n",
    "for cl in classes:\n",
    "    mask = carboxylase_df['class'] == cl\n",
    "    unique_orgs = carboxylase_df[mask].gtdbId.unique().size\n",
    "    \n",
    "    has_ms_mask = mask & carboxylase_df.has_malate_synthase\n",
    "    unique_orgs_with_ms = carboxylase_df[has_ms_mask].gtdbId.unique().size\n",
    "    \n",
    "    n_carb_class.append(unique_orgs)\n",
    "    n_ms_class.append(unique_orgs_with_ms)\n",
    "    \n",
    "plot_order = ['All results'] + classes + phyla\n",
    "df_data = {'name': plot_order,\n",
    "           'n_carboxylases': n_carb_total + n_carb_class + n_carb_phyla,\n",
    "           'n_with_malate_synthase': n_ms_total + n_ms_class + n_ms_phyla}\n",
    "plotting_df = pd.DataFrame(df_data)\n",
    "plotting_df['pct_with_malate_syntase'] = 100*plotting_df.n_with_malate_synthase / plotting_df.n_carboxylases\n",
    "plotting_df.set_index('name', inplace=True)"
   ]
  },
  {
   "cell_type": "code",
   "execution_count": 7,
   "metadata": {},
   "outputs": [
    {
     "ename": "NameError",
     "evalue": "name 'xs' is not defined",
     "output_type": "error",
     "traceback": [
      "\u001b[0;31m---------------------------------------------------------------------------\u001b[0m",
      "\u001b[0;31mNameError\u001b[0m                                 Traceback (most recent call last)",
      "\u001b[0;32m<ipython-input-7-d3f1f6573b42>\u001b[0m in \u001b[0;36m<module>\u001b[0;34m()\u001b[0m\n\u001b[1;32m     15\u001b[0m \u001b[0mcounts\u001b[0m \u001b[0;34m+=\u001b[0m \u001b[0mphyla_sorted_df\u001b[0m\u001b[0;34m.\u001b[0m\u001b[0mn_carboxylases\u001b[0m\u001b[0;34m.\u001b[0m\u001b[0mto_list\u001b[0m\u001b[0;34m(\u001b[0m\u001b[0;34m)\u001b[0m\u001b[0;34m\u001b[0m\u001b[0m\n\u001b[1;32m     16\u001b[0m \u001b[0;34m\u001b[0m\u001b[0m\n\u001b[0;32m---> 17\u001b[0;31m \u001b[0;32mfor\u001b[0m \u001b[0mx\u001b[0m\u001b[0;34m,\u001b[0m \u001b[0my\u001b[0m\u001b[0;34m,\u001b[0m \u001b[0mcount\u001b[0m \u001b[0;32min\u001b[0m \u001b[0mzip\u001b[0m\u001b[0;34m(\u001b[0m\u001b[0mxs\u001b[0m\u001b[0;34m,\u001b[0m \u001b[0mbars\u001b[0m\u001b[0;34m,\u001b[0m \u001b[0mcounts\u001b[0m\u001b[0;34m)\u001b[0m\u001b[0;34m:\u001b[0m\u001b[0;34m\u001b[0m\u001b[0m\n\u001b[0m\u001b[1;32m     18\u001b[0m     \u001b[0mplt\u001b[0m\u001b[0;34m.\u001b[0m\u001b[0mtext\u001b[0m\u001b[0;34m(\u001b[0m\u001b[0mx\u001b[0m\u001b[0;34m,\u001b[0m \u001b[0my\u001b[0m\u001b[0;34m+\u001b[0m\u001b[0;36m2\u001b[0m\u001b[0;34m,\u001b[0m \u001b[0;34m'N=%d\\n(%d%%)'\u001b[0m \u001b[0;34m%\u001b[0m \u001b[0;34m(\u001b[0m\u001b[0mcount\u001b[0m\u001b[0;34m,\u001b[0m \u001b[0my\u001b[0m\u001b[0;34m)\u001b[0m\u001b[0;34m,\u001b[0m \u001b[0mha\u001b[0m\u001b[0;34m=\u001b[0m\u001b[0;34m'center'\u001b[0m\u001b[0;34m,\u001b[0m \u001b[0mfontsize\u001b[0m\u001b[0;34m=\u001b[0m\u001b[0;36m8\u001b[0m\u001b[0;34m)\u001b[0m\u001b[0;34m\u001b[0m\u001b[0m\n\u001b[1;32m     19\u001b[0m \u001b[0;34m\u001b[0m\u001b[0m\n",
      "\u001b[0;31mNameError\u001b[0m: name 'xs' is not defined"
     ]
    },
    {
     "data": {
      "text/plain": [
       "<Figure size 522x216 with 0 Axes>"
      ]
     },
     "metadata": {},
     "output_type": "display_data"
    }
   ],
   "source": [
    "fig = plt.figure(figsize=(7.25, 3))\n",
    "pal = sns.color_palette('muted')\n",
    "\n",
    "colors = [pal[0]] + [pal[1]]*len(classes) + [pal[4]]*len(phyla)\n",
    "bars = plotting_df.pct_with_malate_syntase.to_list()[:3]\n",
    "all_names = plotting_df.index.to_list()\n",
    "names = all_names[:3]\n",
    "remaining_names = all_names[3:]\n",
    "counts = plotting_df.n_carboxylases.to_list()[:3]\n",
    "\n",
    "# sort phylum level values by percent.\n",
    "phyla_sorted_df = plotting_df.loc[remaining_names].copy().sort_values('pct_with_malate_syntase', ascending=False)\n",
    "bars += phyla_sorted_df.pct_with_malate_syntase.to_list()\n",
    "names += phyla_sorted_df.index.to_list()\n",
    "counts += phyla_sorted_df.n_carboxylases.to_list()\n",
    "\n",
    "for x, y, count in zip(xs, bars, counts):\n",
    "    plt.text(x, y+2, 'N=%d\\n(%d%%)' % (count, y), ha='center', fontsize=8)\n",
    "\n",
    "xs = np.arange(len(bars))\n",
    "plt.bar(xs, bars, color=colors)\n",
    "plt.xticks(xs, names, rotation=45, ha='right')\n",
    "plt.xlabel('')\n",
    "plt.ylabel('Percent with Malate Synthase')\n",
    "plt.ylim(0, 120)\n",
    "plt.show()"
   ]
  },
  {
   "cell_type": "code",
   "execution_count": null,
   "metadata": {},
   "outputs": [],
   "source": []
  }
 ],
 "metadata": {
  "kernelspec": {
   "display_name": "Python 3",
   "language": "python",
   "name": "python3"
  },
  "language_info": {
   "codemirror_mode": {
    "name": "ipython",
    "version": 3
   },
   "file_extension": ".py",
   "mimetype": "text/x-python",
   "name": "python",
   "nbconvert_exporter": "python",
   "pygments_lexer": "ipython3",
   "version": "3.6.5"
  }
 },
 "nbformat": 4,
 "nbformat_minor": 4
}
