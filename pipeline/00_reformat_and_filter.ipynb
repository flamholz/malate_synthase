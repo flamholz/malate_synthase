{
 "cells": [
  {
   "cell_type": "code",
   "execution_count": 1,
   "metadata": {},
   "outputs": [],
   "source": [
    "%matplotlib inline\n",
    "import numpy as np\n",
    "import pandas as pd\n",
    "import seaborn as sns\n",
    "\n",
    "from Bio import SeqIO\n",
    "from Bio.SeqIO import SeqRecord\n",
    "from Bio.Seq import Seq\n",
    "from matplotlib import pyplot as plt"
   ]
  },
  {
   "cell_type": "code",
   "execution_count": 2,
   "metadata": {},
   "outputs": [],
   "source": [
    "# Load the GTDB phylogeny.\n",
    "# Note -- annotree is r89 of GTDB as of 04/27/20\n",
    "# Unfortunately these files have no header.\n",
    "gtdb_taxonomy_bac = pd.read_csv('../gtdb/bac120_taxonomy_r89.tsv', sep='\\t', header=None)\n",
    "gtdb_taxonomy_arc = pd.read_csv('../gtdb/ar122_taxonomy_r89.tsv', sep='\\t', header=None)\n",
    "gtdb_taxonomy_bac.columns = ['gtdbId', 'taxonomy']\n",
    "gtdb_taxonomy_arc.columns = ['gtdbId', 'taxonomy']\n",
    "gtdb_taxonomy_bac.set_index('gtdbId', inplace=True)\n",
    "gtdb_taxonomy_arc.set_index('gtdbId', inplace=True)\n",
    "\n",
    "def add_taxonomic_information(annotree_df):\n",
    "    \"\"\"Adds phylogeny in-place, returns ref to same DF\"\"\"\n",
    "    # Lookup the GTDB IDs in the taxonomy files\n",
    "    t_domain, t_phylum, t_class, t_order, t_family = [], [], [], [], [] \n",
    "    t_genus, t_species = [], []\n",
    "    for idx, row in annotree_df.iterrows():\n",
    "        gtdb_id = row.gtdbId    \n",
    "        bac_tax, arc_tax = None, None\n",
    "        if gtdb_id in gtdb_taxonomy_bac.index:\n",
    "            bac_tax = gtdb_taxonomy_bac.at[gtdb_id, 'taxonomy']\n",
    "        if gtdb_id in gtdb_taxonomy_arc.index:\n",
    "            arc_tax = gtdb_taxonomy_arc.at[gtdb_id, 'taxonomy']\n",
    "\n",
    "        # Better have taxonomic information or something is up.\n",
    "        tax = bac_tax or arc_tax\n",
    "        assert tax is not None\n",
    "\n",
    "        t_split = [t.split('__')[1] for t in tax.split(';')]\n",
    "        dom, phy, cla, order, fam, genus, spe = t_split\n",
    "        t_domain.append(dom)\n",
    "        t_phylum.append(phy)\n",
    "        t_class.append(cla)\n",
    "        t_order.append(order)\n",
    "        t_family.append(fam)\n",
    "        t_genus.append(genus)\n",
    "        t_species.append(spe)\n",
    "        \n",
    "    annotree_df['domain'] = t_domain\n",
    "    annotree_df['phylum'] = t_phylum\n",
    "    annotree_df['class'] = t_class\n",
    "    annotree_df['order'] = t_order\n",
    "    annotree_df['family'] = t_family\n",
    "    annotree_df['genus'] = t_genus\n",
    "    annotree_df['species'] = t_species\n",
    "\n",
    "    # GTDB splits firmicutes and chloroflexi into multiple groups. I'm sure this is right, but will confuse many.\n",
    "    annotree_df['phylum_'] = [ph.split('_')[0] for ph in annotree_df.phylum]\n",
    "    return annotree_df"
   ]
  },
  {
   "cell_type": "code",
   "execution_count": 3,
   "metadata": {},
   "outputs": [],
   "source": [
    "def filter_annotree_df(annotree_df, min_length, max_length):\n",
    "    \"\"\"Remove long/short seqs and duplicates.\"\"\"\n",
    "    # remove short and long sequences\n",
    "    mask = annotree_df.sequence.str.len() > min_length\n",
    "    mask &= annotree_df.sequence.str.len() < max_length\n",
    "    filtered_df = annotree_df[mask]\n",
    "    \n",
    "    # Keep the first of the duplicate matched because it had a lower E-val\n",
    "    # (this is how annotree appears to output things)\n",
    "    dup_cols = ['geneId', 'gtdbId', 'pfamId', 'sequence']\n",
    "    deduplicated_df = annotree_df.drop_duplicates(subset=dup_cols, keep='first')\n",
    "    return deduplicated_df\n",
    "\n",
    "def make_fasta_from_annotree_csv(annotree_df, out_fasta_fname):\n",
    "    \"\"\"Convert to FASTA.\"\"\"\n",
    "    seqrecords = []\n",
    "    # Collect records with GTDB gene ID for reference.\n",
    "    for idx, row in annotree_df.iterrows():\n",
    "        seqrecords.append(SeqRecord(Seq(row.sequence), id=row.geneId))\n",
    "        \n",
    "    # Write FASTA\n",
    "    with open(out_fasta_fname, 'w') as outf:\n",
    "        SeqIO.write(seqrecords, outf, 'fasta')"
   ]
  },
  {
   "cell_type": "code",
   "execution_count": 4,
   "metadata": {},
   "outputs": [],
   "source": [
    "# Read both rubisco and malate synthase files\n",
    "rubisco_fname = '../annotree_data/PF00016_rubisco_large_042720.csv'\n",
    "rubisco_df = pd.read_csv(rubisco_fname)\n",
    "rubisco_df = add_taxonomic_information(rubisco_df)\n",
    "rubisco_df.to_csv('../annotree_data/PF00016_rubisco_large_042720_phylo.csv')\n",
    "rub_lens = rubisco_df.sequence.str.len()\n",
    "\n",
    "ms_fname = '../annotree_data/PF01274_malate_synthase_042720.csv'\n",
    "ms_df = pd.read_csv(ms_fname)\n",
    "ms_df = add_taxonomic_information(ms_df)\n",
    "ms_df.to_csv('../annotree_data/PF01274_malate_synthase_042720_phylo.csv')\n",
    "ms_lens = ms_df.sequence.str.len()\n",
    "\n",
    "icl_fname = '../annotree_data/PF00463_isocitrate_lyase_070920.csv'\n",
    "icl_df = pd.read_csv(icl_fname)\n",
    "icl_df = add_taxonomic_information(icl_df)\n",
    "icl_df.to_csv('../annotree_data/PF00463_isocitrate_lyase_070920_phylo.csv')\n",
    "icl_lens = icl_df.sequence.str.len()"
   ]
  },
  {
   "cell_type": "code",
   "execution_count": 5,
   "metadata": {},
   "outputs": [
    {
     "data": {
      "image/png": "[encoded data removed]",
      "text/plain": [
       "<Figure size 864x288 with 3 Axes>"
      ]
     },
     "metadata": {
      "needs_background": "light"
     },
     "output_type": "display_data"
    }
   ],
   "source": [
    "# Plot sequence length distributions to figure out what the right thresholds are.\n",
    "fig, axs = plt.subplots(1, 3, figsize=(12, 4))\n",
    "ax0 = axs[0]\n",
    "ax0.hist(rub_lens[rub_lens < 1000], bins=100)\n",
    "ax0.set_xlim(0, 1000)\n",
    "ax0.set_title('rubisco')\n",
    "ax0.set_xlabel('sequence length')\n",
    "ax0.set_ylabel('frequency')\n",
    "\n",
    "ax1 = axs[1]\n",
    "ax1.hist(ms_lens[ms_lens < 1000], bins=100)\n",
    "ax1.set_xlim(0, 1000)\n",
    "ax1.set_title('malate synthase')\n",
    "ax1.set_xlabel('sequence length')\n",
    "\n",
    "ax2 = axs[2]\n",
    "ax2.hist(icl_lens[icl_lens < 1000], bins=100)\n",
    "ax2.set_xlim(0, 1000)\n",
    "ax2.set_title('isocitrate lyase')\n",
    "ax2.set_xlabel('sequence length')\n",
    "\n",
    "plt.tight_layout()\n",
    "plt.show()"
   ]
  },
  {
   "cell_type": "code",
   "execution_count": 6,
   "metadata": {},
   "outputs": [],
   "source": [
    "# Loose filters since we are just trying to get rid of absurd cases here.\n",
    "rub_filtered_df = filter_annotree_df(rubisco_df, min_length=200, max_length=800)\n",
    "ms_filtered_df = filter_annotree_df(ms_df, min_length=200, max_length=900)\n",
    "icl_filtered_df = filter_annotree_df(icl_df, min_length=200, max_length=900)"
   ]
  },
  {
   "cell_type": "code",
   "execution_count": 7,
   "metadata": {},
   "outputs": [
    {
     "name": "stdout",
     "output_type": "stream",
     "text": [
      "Rubisco: pre-filtered size: 4831; post: 4644\n",
      "Malate Synthase: pre-filtered size: 11608; post: 11596\n",
      "Isocitrate lyase: pre-filtered size: 10424; post: 8727\n"
     ]
    }
   ],
   "source": [
    "print('Rubisco: pre-filtered size: %d; post: %d' % (rubisco_df.index.size, rub_filtered_df.index.size))\n",
    "print('Malate Synthase: pre-filtered size: %d; post: %d' % (ms_df.index.size, ms_filtered_df.index.size))\n",
    "print('Isocitrate lyase: pre-filtered size: %d; post: %d' % (icl_df.index.size, icl_filtered_df.index.size))\n",
    "\n",
    "# Should have no duplicate IDs now that we've filtered. \n",
    "# This was achieved by dropping duplicates, but the duplicates were determined by IDs and sequence\n",
    "# So this check ensures all the duplicate IDs in fact had the same sequence.\n",
    "assert rub_filtered_df.geneId.unique().size == rub_filtered_df.index.size\n",
    "assert ms_filtered_df.geneId.unique().size == ms_filtered_df.index.size\n",
    "assert icl_filtered_df.geneId.unique().size == icl_filtered_df.index.size\n",
    "\n",
    "# Save the filtered file as CSV\n",
    "rub_filtered_df.to_csv('../annotree_data/PF00016_rubisco_large_042720_filtered.csv', index=False)\n",
    "ms_filtered_df.to_csv('../annotree_data/PF01274_malate_synthase_042720_filtered.csv', index=False)\n",
    "icl_filtered_df.to_csv('../annotree_data/PF00463_isocitrate_lyase_070920_filtered.csv', index=False)\n",
    "\n",
    "# Make a fasta file of the filtered rubiscos for usearch\n",
    "make_fasta_from_annotree_csv(rub_filtered_df, '../annotree_data/PF00016_rubisco_large_042720_filtered.fa')"
   ]
  },
  {
   "cell_type": "code",
   "execution_count": 8,
   "metadata": {},
   "outputs": [
    {
     "name": "stdout",
     "output_type": "stream",
     "text": [
      "/bin/bash: usearch: command not found\n"
     ]
    }
   ],
   "source": [
    "# Make a sequence database for type IV rubiscos for usearch \n",
    "jaffee_seqs = SeqIO.parse('../rubisco_sequences/jaffe_et_al_2018_rubisco_superfamilies.faa', 'fasta')\n",
    "typeIVs = []\n",
    "for sr in jaffee_seqs:\n",
    "    rub_id = sr.id\n",
    "    rub_type = rub_id.split(':')[-1]\n",
    "    \n",
    "    if rub_type == 'IV':\n",
    "        typeIVs.append(sr)\n",
    "        \n",
    "with open('../rubisco_sequences/example_fIVs.fasta', 'w') as outf:\n",
    "    SeqIO.write(typeIVs, outf, 'fasta')\n",
    "    \n",
    "!mkdir -p usearch\n",
    "!usearch -makeudb_usearch ../rubisco_sequences/example_fIVs.fasta -output ../usearch/example_fIVs.udb"
   ]
  },
  {
   "cell_type": "code",
   "execution_count": 9,
   "metadata": {},
   "outputs": [
    {
     "name": "stdout",
     "output_type": "stream",
     "text": [
      "/bin/bash: usearch: command not found\n"
     ]
    }
   ],
   "source": [
    "# Search against the usearch database, retaining only those sequences that are not within 30% ID of a form IV.\n",
    "!usearch -usearch_global ../annotree_data/PF00016_rubisco_large_042720_filtered.fa -db ../usearch/example_fIVs.udb -id 0.35 -notmatched ../usearch/rubs_not_fIV.fa"
   ]
  },
  {
   "cell_type": "code",
   "execution_count": 10,
   "metadata": {},
   "outputs": [
    {
     "name": "stdout",
     "output_type": "stream",
     "text": [
      "Rubisco: 2856 of 4644 did not match any fIV query\n",
      "These are presumed to be carboxylases\n"
     ]
    }
   ],
   "source": [
    "retained_rub_gene_ids = []\n",
    "usearch_non_match_fname = '../usearch/rubs_not_fIV.fa'\n",
    "for sr in SeqIO.parse(usearch_non_match_fname, 'fasta'):\n",
    "    retained_rub_gene_ids.append(sr.id)\n",
    "    \n",
    "n_retained = len(retained_rub_gene_ids)\n",
    "print('Rubisco: %d of %d did not match any fIV query' % (n_retained, rub_filtered_df.index.size))\n",
    "print('These are presumed to be carboxylases')\n",
    "\n",
    "# Retained genes are likely carboxylases\n",
    "carboxylase_df = rub_filtered_df[rub_filtered_df.geneId.isin(retained_rub_gene_ids)]\n",
    "carboxylase_df.to_csv('../annotree_data/PF00016_rubisco_large_042720_not_fIV.csv', index=False)"
   ]
  },
  {
   "cell_type": "code",
   "execution_count": null,
   "metadata": {},
   "outputs": [],
   "source": []
  }
 ],
 "metadata": {
  "kernelspec": {
   "display_name": "Python 3",
   "language": "python",
   "name": "python3"
  },
  "language_info": {
   "codemirror_mode": {
    "name": "ipython",
    "version": 3
   },
   "file_extension": ".py",
   "mimetype": "text/x-python",
   "name": "python",
   "nbconvert_exporter": "python",
   "pygments_lexer": "ipython3",
   "version": "3.7.3"
  }
 },
 "nbformat": 4,
 "nbformat_minor": 4
}
